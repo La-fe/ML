{
 "cells": [
  {
   "cell_type": "markdown",
   "metadata": {},
   "source": [
    "# 决策树\n",
    "---\n",
    "包含 根节点, 叶节点\n",
    "\n",
    "**输入:** 训练集: $ D = {(x1, y1),(x2,y2)} $\n",
    "\n",
    "        属性集 $ A = {a1, a2, ad}$\n",
    "        属性的意思是总共包含多少种特性(色泽,根菧,敲声)\n",
    "        训练集是 要训练树的节点的训练集"
   ]
  },
  {
   "cell_type": "code",
   "execution_count": 1,
   "metadata": {
    "collapsed": true
   },
   "outputs": [],
   "source": [
    "import numpy as np\n",
    "import math"
   ]
  },
  {
   "cell_type": "markdown",
   "metadata": {},
   "source": []
  },
  {
   "cell_type": "code",
   "execution_count": 2,
   "metadata": {},
   "outputs": [
    {
     "ename": "IndentationError",
     "evalue": "expected an indented block (<ipython-input-2-3a1f927d9ff4>, line 9)",
     "output_type": "error",
     "traceback": [
      "\u001b[1;36m  File \u001b[1;32m\"<ipython-input-2-3a1f927d9ff4>\"\u001b[1;36m, line \u001b[1;32m9\u001b[0m\n\u001b[1;33m    def TreeGenerate(self, D, A):\u001b[0m\n\u001b[1;37m      ^\u001b[0m\n\u001b[1;31mIndentationError\u001b[0m\u001b[1;31m:\u001b[0m expected an indented block\n"
     ]
    }
   ],
   "source": [
    "class decision_tree(object):\n",
    "    def __init__(self):\n",
    "        self.node = 'None'\n",
    "        self.classes = 'None'\n",
    "    \n",
    "    def setNode(self, node ,type, classes):\n",
    "        \n",
    "        \n",
    "    def TreeGenerate(self, D, A):\n",
    "        node = 0\n",
    "        class_C = 1\n",
    "        labels = D[:, 1].T\n",
    "        if np.sum(labels == class_C) == len(labels):  # 求和判断是否全都是True \n",
    "            node = class_C\n",
    "            \n",
    "        elif len(A) == 0 or np.sum([label==labels[0] for label in labels]) == len(labels): # 如果属性为空, 或者 所有的样本 在属性中取值相同, \n",
    "            \n",
    "            \n",
    "        \n",
    "D = np.array([[1,1], [2,2], [3,3]])\n",
    "A = np.array([2,2,2])\n",
    "TreeGenerate(D,A)\n"
   ]
  },
  {
   "cell_type": "code",
   "execution_count": 3,
   "metadata": {
    "collapsed": true
   },
   "outputs": [],
   "source": [
    "D = np.array([[1,1], [2,2], [3,3]])\n",
    "labels = D[:, 1].T  \n"
   ]
  },
  {
   "cell_type": "markdown",
   "metadata": {},
   "source": [
    "### 信息增益\n",
    "--- \n",
    "* 信息熵:  $ Ent(D) = -\\sum_{k=0}^{|y|}p_klog_2p_k $\n",
    "\n",
    "设定: $p = 0, plog_2p = 0$\n",
    "\n",
    "D样本中 第*k*类样本 所占样本比例为 $p_k, (k = 1,2,...|y|) $ , Ent(D) 的值越小 , D纯度越高, \n",
    "\n",
    "* $D^v$ 表示 $a_k 的属性中包含多个可能取值 \\lbrace a^1,a^2,...,a^V \\rbrace,$ , 就是第 $x^{(i)}属性中有多个 3,4,5,6 的取值$\n",
    " 有多少个属性值 {色泽,敲声,纹理}, {色泽} 可能取值有3个 {青色, 白色, 乌黑}, $D^1 (色泽=青色), D^2 (色泽=白色), D^3(色泽= 乌黑)$\n",
    "\n",
    "* 分支点权重: $\\frac{|D^v|}{|D|}$\n",
    "* 信息增益: $Gain(D,a) = Ent(D) - \\sum_{v=1}^V\\frac{|D^v|}{|D|}Ent(D^v)$\n",
    "可以用\"信息增益\" 作为决策树的划分属性选择 即: 从A中选择最优化分属性$a_*^v = argmax_{a\\in A}$\n",
    "* 增益率: '信息增益准则'对可取数目较多的属性有所偏好, 为减少这种问题,使用\"增益率\" 代替\"信息增益\"\n",
    "$Gain\\_ratio(D,a) = \\frac {Gain(D,a)} {IV(a)},  \n",
    "\n",
    "其中, a的'固有值'  IV(a) = -\\sum_{v=1}^V \\frac{|D^v|}{|D|}log_2\\frac{|D^v|}{|D|} $\n",
    "\n",
    "使用方法: 先找到\"信息增益\"高于平均水平的属性, 在通过\"增益率\"选择最高的"
   ]
  },
  {
   "cell_type": "code",
   "execution_count": 4,
   "metadata": {},
   "outputs": [
    {
     "ename": "SyntaxError",
     "evalue": "invalid syntax (<ipython-input-4-2081c45f33c8>, line 4)",
     "output_type": "error",
     "traceback": [
      "\u001b[1;36m  File \u001b[1;32m\"<ipython-input-4-2081c45f33c8>\"\u001b[1;36m, line \u001b[1;32m4\u001b[0m\n\u001b[1;33m    weight_inform =\u001b[0m\n\u001b[1;37m                    ^\u001b[0m\n\u001b[1;31mSyntaxError\u001b[0m\u001b[1;31m:\u001b[0m invalid syntax\n"
     ]
    }
   ],
   "source": [
    "# 计算信息熵\n",
    "p = []\n",
    "Ent_D = sum([ p[feature] * math.log2(p[feature])for feature in range(len(Y))])\n",
    "weight_inform = \n",
    "def Gain_inform(D, a):\n",
    "    # V 是 不同a 属性的 可取值范围\n",
    "    g_a = Ent_D - sum([ len()for value in range(len(V))])\n",
    "\n",
    "# 判断D^1 的"
   ]
  },
  {
   "cell_type": "markdown",
   "metadata": {},
   "source": [
    "* 基尼指数 $Gini(D) = \\sum_{k=1}^{|y|}\\sum_{k\\prime \\not= k}p_k p_k{\\prime} = 1 - \\sum_{k=1}^{|y|}p_k^2$ \n",
    "\n",
    "随机抽取两个样本, 类别标记不一样的概率. Gini(D) 越小,纯度越高, '基尼指数'也是用于划分最优属性的 \n",
    "\n",
    "$ Gini\\_index(D,a) = \\sum_{v=1}^V\\frac{|D^v|}{|D|} Gini(D^v)$\n",
    "最优属性 $a_* = argmin_{a \\in A} Gini\\_index(D,a)$"
   ]
  },
  {
   "cell_type": "code",
   "execution_count": null,
   "metadata": {
    "collapsed": true
   },
   "outputs": [],
   "source": []
  },
  {
   "cell_type": "markdown",
   "metadata": {},
   "source": [
    "* 剪枝处理,对付过拟合"
   ]
  },
  {
   "cell_type": "markdown",
   "metadata": {},
   "source": [
    "---\n",
    "## 简易实现决策树\n",
    "---\n",
    "使用鸢尾花数据集:\n",
    " 1. 导入数据x,y 使用两个 特征进行分类\n",
    " 2. 数据可视化\n",
    " 3. 进行分类"
   ]
  },
  {
   "cell_type": "code",
   "execution_count": 5,
   "metadata": {
    "collapsed": true
   },
   "outputs": [],
   "source": [
    "import numpy as np\n",
    "import matplotlib.pyplot as plt"
   ]
  },
  {
   "cell_type": "code",
   "execution_count": 6,
   "metadata": {
    "collapsed": true
   },
   "outputs": [],
   "source": [
    "from sklearn import datasets\n",
    "iris = datasets.load_iris()  \n",
    "''' ['sepal length (cm)',\n",
    "  'sepal width (cm)',\n",
    "  'petal length (cm)',\n",
    "  'petal width (cm)'],\n",
    "'''\n",
    "x = iris.data[:, 2:]   # 使用 petal length 和 petal width \n",
    "y = iris.target"
   ]
  },
  {
   "cell_type": "code",
   "execution_count": 7,
   "metadata": {},
   "outputs": [
    {
     "data": {
      "image/png": "[encoded data removed]",
      "text/plain": [
       "<matplotlib.figure.Figure at 0x237eabffe48>"
      ]
     },
     "metadata": {},
     "output_type": "display_data"
    }
   ],
   "source": [
    "# 数据可视化\n",
    "plt.scatter(x[y==0,0], x[y==0,1])\n",
    "plt.scatter(x[y==1,0], x[y==1,1])\n",
    "plt.scatter(x[y==2,0], x[y==2,1])\n",
    "plt.show()"
   ]
  },
  {
   "cell_type": "code",
   "execution_count": 8,
   "metadata": {},
   "outputs": [
    {
     "data": {
      "text/plain": [
       "DecisionTreeClassifier(class_weight=None, criterion='entropy', max_depth=2,\n",
       "            max_features=None, max_leaf_nodes=None,\n",
       "            min_impurity_decrease=0.0, min_impurity_split=None,\n",
       "            min_samples_leaf=1, min_samples_split=2,\n",
       "            min_weight_fraction_leaf=0.0, presort=False, random_state=None,\n",
       "            splitter='best')"
      ]
     },
     "execution_count": 8,
     "metadata": {},
     "output_type": "execute_result"
    }
   ],
   "source": [
    "from sklearn.tree import DecisionTreeClassifier\n",
    "dt_clf = DecisionTreeClassifier(max_depth=2, criterion='entropy') # criterion='gini' 也可以使用基尼系数进行划分\n",
    "dt_clf.fit(x, y)"
   ]
  },
  {
   "cell_type": "code",
   "execution_count": 9,
   "metadata": {
    "collapsed": true
   },
   "outputs": [],
   "source": [
    "# 绘制决策边界\n",
    "def plot_decision_boundary(model, axis):\n",
    "    x0, x1 = np.meshgrid(\n",
    "        np.linspace(axis[0],axis[1], int((axis[1]-axis[0])*100)).reshape\n",
    "    )"
   ]
  },
  {
   "cell_type": "markdown",
   "metadata": {},
   "source": [
    "## 构建决策树\n",
    "---\n",
    "* 问题: \n",
    "    1. 每个节点在哪个维度做划分, \n",
    "    2. 某个维度在哪个阈值做划分\n",
    "    \n",
    "### 信息熵\n",
    "熵越大,不确定性越高. 反之,不确定越低\n",
    "\n",
    "计算公式: $H = - \\sum_{i=1}^kp_ilogp_i $   \n",
    "\n",
    "$由于p_i小于1,则logp_i小于0 $ \n",
    "  "
   ]
  },
  {
   "cell_type": "code",
   "execution_count": 10,
   "metadata": {
    "scrolled": true
   },
   "outputs": [
    {
     "data": {
      "image/png": "[encoded data removed]",
      "text/plain": [
       "<matplotlib.figure.Figure at 0x237ecf2def0>"
      ]
     },
     "metadata": {},
     "output_type": "display_data"
    }
   ],
   "source": [
    "# 信息熵 2分类展示\n",
    "import math \n",
    "def entropy(p):\n",
    "#     if len(p) is 2:\n",
    "    Ent_D = (-p * np.log(p) - (1-p) * np.log(1-p))\n",
    "    Gini_D =  - 2 * p**2 + 2 * p \n",
    "    return Ent_D, Gini_D\n",
    "x = np.linspace(0.01, 0.99, 200)\n",
    "Ent, Gini = entropy(x)\n",
    "plt.plot(x, Ent)\n",
    "plt.plot(x, Gini)\n",
    "plt.show()\n",
    "    "
   ]
  },
  {
   "cell_type": "markdown",
   "metadata": {},
   "source": [
    "### 使用信息熵寻找最优划分\n",
    "\n",
    "1. 划分X, y , d, \n",
    "#### 信息熵 与 基尼系数\n",
    "1. 信息熵的计算比基尼系数慢,  信息熵有log \n"
   ]
  },
  {
   "cell_type": "code",
   "execution_count": 18,
   "metadata": {},
   "outputs": [
    {
     "data": {
      "text/plain": [
       "(0.6931471805599453, 0, 2.45)"
      ]
     },
     "execution_count": 18,
     "metadata": {},
     "output_type": "execute_result"
    }
   ],
   "source": [
    "from collections import Counter\n",
    "from math import log\n",
    "\n",
    "def split(X, y, d, value):\n",
    "    index_a = (X[:,d] <= value)\n",
    "    index_b = (X[:,d] > value)  # bool 值\n",
    "    return X[index_a], X[index_b], y[index_a], y[index_b]\n",
    "\n",
    "def entropy(y):\n",
    "    counter = Counter(y) # Counter({0: 50, 1: 50, 2: 50}), key 是样本, value是个数\n",
    "    res = 0.0\n",
    "    for num in counter.values():\n",
    "        p = num / len(y)\n",
    "        # 计算信息熵函数\n",
    "        res += -p * log(p)\n",
    "    return res\n",
    "    \n",
    "    \n",
    "    \n",
    "# 寻找 d 和 value\n",
    "def try_split(X, y):\n",
    "    best_entropy = float('inf')\n",
    "    best_d, best_v = -1, -1\n",
    "    for d in range(X.shape[1]):\n",
    "        sorted_index = np.argsort(X[:,d]) # 把 d 维度中的数据维度进行排列\n",
    "        for i in range(1, len(X)):\n",
    "            if X[sorted_index[i - 1], d] != X[sorted_index[i], d]:\n",
    "                v = (X[sorted_index[i - 1], d] + X[sorted_index[i], d]) / 2\n",
    "                X_l, X_r, y_l, y_r = split(X, y, d, v)\n",
    "                e = entropy(y_l) + entropy(y_r)\n",
    "                if e < best_entropy:\n",
    "                    best_entropy, best_d, best_v = e, d, v\n",
    "    return best_entropy, best_d, best_v\n",
    "\n",
    "            \n",
    "        \n",
    "X = iris.data[:, 2:]\n",
    "y = iris.target\n",
    "test = np.argsort(X[:,1])\n",
    "try_split(X, y)"
   ]
  },
  {
   "cell_type": "markdown",
   "metadata": {
    "collapsed": true
   },
   "source": [
    "### Gini系数\n",
    "基尼系数"
   ]
  },
  {
   "cell_type": "code",
   "execution_count": 21,
   "metadata": {},
   "outputs": [
    {
     "data": {
      "text/plain": [
       "(0.5, 0, 2.45)"
      ]
     },
     "execution_count": 21,
     "metadata": {},
     "output_type": "execute_result"
    }
   ],
   "source": [
    "\n",
    "def split(X, y, d, value):\n",
    "    index_a = (X[:,d] <= value)\n",
    "    index_b = (X[:,d] > value)  # bool 值\n",
    "    return X[index_a], X[index_b], y[index_a], y[index_b]\n",
    "\n",
    "def gini(y):\n",
    "    counter = Counter(y) # Counter({0: 50, 1: 50, 2: 50}), key 是样本, value是个数\n",
    "    res = 1.0\n",
    "    for num in counter.values():\n",
    "        p = num / len(y)\n",
    "        # 计算信息熵函数\n",
    "        res -= p**2\n",
    "    return res\n",
    "    \n",
    "    \n",
    "    \n",
    "# 寻找 d 和 value\n",
    "def try_split(X, y):\n",
    "    best_g = float('inf')\n",
    "    best_d, best_v = -1, -1\n",
    "    for d in range(X.shape[1]):\n",
    "        sorted_index = np.argsort(X[:,d]) # 把 d 维度中的数据维度进行排列\n",
    "        for i in range(1, len(X)):\n",
    "            if X[sorted_index[i - 1], d] != X[sorted_index[i], d]:\n",
    "                v = (X[sorted_index[i - 1], d] + X[sorted_index[i], d]) / 2\n",
    "                X_l, X_r, y_l, y_r = split(X, y, d, v)\n",
    "                e = gini(y_l) + gini(y_r)\n",
    "                if e < best_g:\n",
    "                    best_g, best_d, best_v = e, d, v\n",
    "    return best_g, best_d, best_v\n",
    "\n",
    "X = iris.data[:, 2:]\n",
    "y = iris.target\n",
    "test = np.argsort(X[:,1])\n",
    "try_split(X, y)     "
   ]
  },
  {
   "cell_type": "markdown",
   "metadata": {},
   "source": [
    "### CART \n",
    "Classifiction And Regression Tree \n",
    "\n",
    "CART 实现的是二叉树, 还有其他的决策树: ID3, C4.5 C5.0 \n",
    "\n",
    "$ 预测时间复杂度  O(logm), 训练过程的复杂度O(n*m*logm) $\n",
    "\n",
    "决策树的问题: 非常容易产生过拟合, 所以要进行 '剪枝', \n",
    "\n",
    "参数: max_depth 决策树深度, \n",
    "    \n",
    "    min_samples_split 一个节点至少有多少个样本继续进行拆分下去  \n",
    "    \n",
    "    min_samples_leaf 对于一个叶,至少要有几个节点\n",
    "    \n",
    "    max_leaf_nodes  最多有多少个叶子节点, \n",
    "      "
   ]
  },
  {
   "cell_type": "code",
   "execution_count": 24,
   "metadata": {},
   "outputs": [
    {
     "data": {
      "image/png": "[encoded data removed]",
      "text/plain": [
       "<matplotlib.figure.Figure at 0x237ee5e99b0>"
      ]
     },
     "metadata": {},
     "output_type": "display_data"
    }
   ],
   "source": [
    "from sklearn import datasets\n",
    "X, y = datasets.make_moons(noise=0.25, random_state=666)\n",
    "plt.scatter(X[y==0, 0], X[y==0, 1])\n",
    "plt.scatter(X[y==1, 0], X[y==1, 1])\n",
    "plt.show()"
   ]
  },
  {
   "cell_type": "code",
   "execution_count": 25,
   "metadata": {},
   "outputs": [
    {
     "ename": "SyntaxError",
     "evalue": "invalid syntax (<ipython-input-25-d4258fb4b48a>, line 2)",
     "output_type": "error",
     "traceback": [
      "\u001b[1;36m  File \u001b[1;32m\"<ipython-input-25-d4258fb4b48a>\"\u001b[1;36m, line \u001b[1;32m2\u001b[0m\n\u001b[1;33m    from s\u001b[0m\n\u001b[1;37m          ^\u001b[0m\n\u001b[1;31mSyntaxError\u001b[0m\u001b[1;31m:\u001b[0m invalid syntax\n"
     ]
    }
   ],
   "source": [
    "# 进行决策树处理\n",
    "from s"
   ]
  },
  {
   "cell_type": "markdown",
   "metadata": {},
   "source": [
    "### 决策树实现回归问题\n",
    "\n"
   ]
  }
 ],
 "metadata": {
  "kernelspec": {
   "display_name": "Python 3",
   "language": "python",
   "name": "python3"
  },
  "language_info": {
   "codemirror_mode": {
    "name": "ipython",
    "version": 3
   },
   "file_extension": ".py",
   "mimetype": "text/x-python",
   "name": "python",
   "nbconvert_exporter": "python",
   "pygments_lexer": "ipython3",
   "version": "3.6.3"
  }
 },
 "nbformat": 4,
 "nbformat_minor": 2
}
